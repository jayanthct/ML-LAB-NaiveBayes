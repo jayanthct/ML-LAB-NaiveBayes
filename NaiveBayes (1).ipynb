{
  "nbformat": 4,
  "nbformat_minor": 0,
  "metadata": {
    "colab": {
      "provenance": []
    },
    "kernelspec": {
      "name": "python3",
      "display_name": "Python 3"
    },
    "language_info": {
      "name": "python"
    }
  },
  "cells": [
    {
      "cell_type": "code",
      "execution_count": 1,
      "metadata": {
        "colab": {
          "base_uri": "https://localhost:8080/"
        },
        "id": "cW2h3x563H2T",
        "outputId": "08ca6ced-a237-4954-f2c2-24ab31d9e50e"
      },
      "outputs": [
        {
          "output_type": "stream",
          "name": "stdout",
          "text": [
            "Accuracy: 0.3333333333333333\n",
            "F1 Score: 0.5\n",
            "Confusion Matrix:\n",
            " [[0 0 0]\n",
            " [2 1 0]\n",
            " [0 0 0]]\n"
          ]
        }
      ],
      "source": [
        "\n",
        "import numpy as np\n",
        "import pandas as pd\n",
        "from sklearn.preprocessing import LabelEncoder\n",
        "from sklearn.naive_bayes import GaussianNB\n",
        "from sklearn.model_selection import train_test_split\n",
        "from sklearn.metrics import accuracy_score, confusion_matrix, ConfusionMatrixDisplay, f1_score\n",
        "\n",
        "\n",
        "data = pd.read_csv('enjoysports.csv')\n",
        "X = data.drop('Decision', axis=1)\n",
        "y = data['Decision']\n",
        "\n",
        "\n",
        "label_encoder = LabelEncoder()\n",
        "X['Outlook'] = label_encoder.fit_transform(X['Outlook'])\n",
        "X['Temp.'] = label_encoder.fit_transform(X['Temp.'])\n",
        "X['Humidity'] = label_encoder.fit_transform(X['Humidity'])\n",
        "X['Wind'] = label_encoder.fit_transform(X['Wind'])\n",
        "y = label_encoder.fit_transform(y)\n",
        "\n",
        "\n",
        "X_train, X_test, y_train, y_test = train_test_split(X, y, test_size=0.2, random_state=0)\n",
        "\n",
        "\n",
        "naive_bayes_model = GaussianNB()\n",
        "naive_bayes_model.fit(X_train, y_train)\n",
        "\n",
        "\n",
        "y_pred = naive_bayes_model.predict(X_test)\n",
        "accuracy = accuracy_score(y_test, y_pred)\n",
        "f1 = f1_score(y_test, y_pred, average=\"weighted\")\n",
        "\n",
        "print(\"Accuracy:\", accuracy)\n",
        "print(\"F1 Score:\", f1)\n",
        "\n",
        "\n",
        "conf_matrix = confusion_matrix(y_test, y_pred, labels=[0, 1, 2])\n",
        "print(\"Confusion Matrix:\\n\", conf_matrix)\n"
      ]
    },
    {
      "cell_type": "code",
      "source": [],
      "metadata": {
        "id": "xIUEQS3941FP"
      },
      "execution_count": null,
      "outputs": []
    }
  ]
}