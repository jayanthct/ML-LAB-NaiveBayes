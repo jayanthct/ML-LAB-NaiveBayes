{
  "nbformat": 4,
  "nbformat_minor": 0,
  "metadata": {
    "colab": {
      "provenance": []
    },
    "kernelspec": {
      "name": "python3",
      "display_name": "Python 3"
    },
    "language_info": {
      "name": "python"
    }
  },
  "cells": [
    {
      "cell_type": "code",
      "execution_count": 1,
      "metadata": {
        "colab": {
          "base_uri": "https://localhost:8080/"
        },
        "id": "wNACoAd5-zGZ",
        "outputId": "02f782fe-e175-48ae-ade8-3f3d92f9148d"
      },
      "outputs": [
        {
          "output_type": "stream",
          "name": "stdout",
          "text": [
            "The accuracy of the model on the dataset is: 0.9666666666666667\n",
            "The F1 score of the model on the dataset is: 0.9657687991021324\n",
            "The error rate of the model on the dataset is: 0.033333333333333326\n",
            "Confusion Matrix:\n",
            " [[11  0  0]\n",
            " [ 0 13  0]\n",
            " [ 0  1  5]]\n"
          ]
        }
      ],
      "source": [
        "import numpy as np\n",
        "import pandas as pd\n",
        "from sklearn.preprocessing import LabelEncoder\n",
        "from sklearn.naive_bayes import GaussianNB\n",
        "from sklearn.model_selection import train_test_split\n",
        "from sklearn.metrics import accuracy_score, confusion_matrix, ConfusionMatrixDisplay, f1_score\n",
        "\n",
        "\n",
        "data = pd.read_csv('iris.csv')\n",
        "X = data.drop('Species', axis=1)\n",
        "y = data['Species']\n",
        "\n",
        "label_encoder = LabelEncoder()\n",
        "y = label_encoder.fit_transform(y)\n",
        "\n",
        "\n",
        "X_train, X_test, y_train, y_test = train_test_split(X, y, test_size=0.2, random_state=0)\n",
        "\n",
        "naive_bayes_model = GaussianNB()\n",
        "naive_bayes_model.fit(X_train, y_train)\n",
        "\n",
        "y_pred = naive_bayes_model.predict(X_test)\n",
        "accuracy = accuracy_score(y_test, y_pred)\n",
        "f1 = f1_score(y_test, y_pred, average=\"weighted\")\n",
        "error_rate = 1 - accuracy\n",
        "\n",
        "\n",
        "print(\"The accuracy of the model on the dataset is:\", accuracy)\n",
        "print(\"The F1 score of the model on the dataset is:\", f1)\n",
        "print(\"The error rate of the model on the dataset is:\", error_rate)\n",
        "\n",
        "conf_matrix = confusion_matrix(y_test, y_pred, labels=[0, 1, 2])\n",
        "print(\"Confusion Matrix:\\n\", conf_matrix)\n"
      ]
    },
    {
      "cell_type": "code",
      "source": [],
      "metadata": {
        "id": "wq0cUDAR_Sbs"
      },
      "execution_count": null,
      "outputs": []
    }
  ]
}